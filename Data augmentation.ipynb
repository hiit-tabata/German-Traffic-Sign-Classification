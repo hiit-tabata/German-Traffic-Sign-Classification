{
 "cells": [
  {
   "cell_type": "markdown",
   "metadata": {},
   "source": [
    "## Data augmentation\n"
   ]
  },
  {
   "cell_type": "code",
   "execution_count": null,
   "metadata": {
    "collapsed": true
   },
   "outputs": [],
   "source": [
    "import numpy as np\n",
    "import cv2\n",
    "import os\n",
    "import pickle\n",
    "\n",
    "# params\n",
    "NEW_DATA_FILE_NAME = \"train_aug.p\"\n",
    "ORIG\n",
    "NB_NEW_IMAGES = 2000\n",
    "ORIGINAL_DATA_FILE_NAME = \"train.p\" \n",
    "#augmentation params\n",
    "ANGLE_ROTATE = 20\n",
    "TRANSLATION = 0.2\n"
   ]
  },
  {
   "cell_type": "code",
   "execution_count": null,
   "metadata": {
    "collapsed": true
   },
   "outputs": [],
   "source": [
    "def augmenteImage(image, angle, translation):\n",
    "    h, w, c = image.shape\n",
    "    \n",
    "    # random rotate\n",
    "    angle_rotate = np.random.uniform(-angle, angle)\n",
    "    rotation_mat = cv2.getRotationMatrix2D((w//2, h//2), angle_rotate, 1)\n",
    "\n",
    "    img = cv2.warpAffine(image, rotation_mat, (width, height))\n",
    "\n",
    "    # random translation\n",
    "    x_offset = translation * w * np.random.uniform(-1, 1)\n",
    "    y_offset = translation * h * np.random.uniform(-1, 1)\n",
    "    mat = np.array([[1, 0, x_offset], [0, 1, y_offset]])\n",
    "\n",
    "    # return warpped img\n",
    "    return cv2.warpAffine(img, mat, (w, h))"
   ]
  },
  {
   "cell_type": "code",
   "execution_count": null,
   "metadata": {
    "collapsed": true
   },
   "outputs": [],
   "source": [
    "with open(ORIGINAL_DATA_FILE_NAME, mode='rb') as file:\n",
    "    data = pickle.load(file)\n",
    "data_x, data_y = data['features'], data['labels']\n",
    "\n",
    "new_data_x = np.empty((NB_NEW_IMAGES, 32, 32, 3), dtype=int32)\n",
    "new_data_y = np.empty(NB_NEW_IMAGES)\n",
    "\n",
    "for i in range(NB_NEW_IMAGES):\n",
    "    target = np.random.randint(data_x.shape[0])\n",
    "    new_data_x[i] = augmenteImage(data_x[target], ANGLE_ROTATE, TRANSLATION)\n",
    "    new_data_y[i] = data_y[target]\n",
    "\n",
    "new_data = {'features': np.concatenate((data_x, new_data_x)), 'labels': np.concatenate((data_y, new_data_y))}\n",
    "\n",
    "with open(NEW_DATA_FILE_NAME, mode='wb') as file:\n",
    "    pickle.dump(new_data, file)"
   ]
  }
 ],
 "metadata": {
  "anaconda-cloud": {},
  "kernelspec": {
   "display_name": "Python [conda env:carND]",
   "language": "python",
   "name": "conda-env-carND-py"
  },
  "language_info": {
   "codemirror_mode": {
    "name": "ipython",
    "version": 3
   },
   "file_extension": ".py",
   "mimetype": "text/x-python",
   "name": "python",
   "nbconvert_exporter": "python",
   "pygments_lexer": "ipython3",
   "version": "3.6.0"
  }
 },
 "nbformat": 4,
 "nbformat_minor": 1
}
